{
 "cells": [
  {
   "cell_type": "code",
   "execution_count": null,
   "id": "0724e808-645b-41ad-bb5d-178f85f00bbc",
   "metadata": {},
   "outputs": [],
   "source": [
    "%set_env AMD_LOG_LEVEL=3"
   ]
  },
  {
   "cell_type": "code",
   "execution_count": 1,
   "id": "ccf719ca-f121-4687-b35d-392383312310",
   "metadata": {},
   "outputs": [
    {
     "ename": "TabError",
     "evalue": "inconsistent use of tabs and spaces in indentation (442839717.py, line 49)",
     "output_type": "error",
     "traceback": [
      "\u001b[0;36m  Cell \u001b[0;32mIn[1], line 49\u001b[0;36m\u001b[0m\n\u001b[0;31m    print(torch.cuda.is_available())\u001b[0m\n\u001b[0m    ^\u001b[0m\n\u001b[0;31mTabError\u001b[0m\u001b[0;31m:\u001b[0m inconsistent use of tabs and spaces in indentation\n"
     ]
    }
   ],
   "source": [
    "import torch, grp, pwd, os, subprocess\n",
    "devices = []\n",
    "try:\n",
    "\tprint(\"\\n\\nChecking ROCM support...\")\n",
    "\tresult = subprocess.run(['rocminfo'], stdout=subprocess.PIPE)\n",
    "\tcmd_str = result.stdout.decode('utf-8')\n",
    "\tcmd_split = cmd_str.split('Agent ')\n",
    "\tfor part in cmd_split:\n",
    "\t\titem_single = part[0:1]\n",
    "\t\titem_double = part[0:2]\n",
    "\t\tif item_single.isnumeric() or item_double.isnumeric():\n",
    "\t\t\tnew_split = cmd_str.split('Agent '+item_double)\n",
    "\t\t\tdevice = new_split[1].split('Marketing Name:')[0].replace('  Name:                    ', '').replace('\\n','').replace('                  ','').split('Uuid:')[0].split('*******')[1]\n",
    "\t\t\tdevices.append(device)\n",
    "\tif len(devices) > 0:\n",
    "\t\tprint('GOOD: ROCM devices found: ', len(devices))\n",
    "\telse:\n",
    "\t\tprint('BAD: No ROCM devices found.')\n",
    "\n",
    "\tprint(\"Checking PyTorch...\")\n",
    "\tx = torch.rand(5, 3)\n",
    "\thas_torch = False\n",
    "\tlen_x = len(x)\n",
    "\tif len_x == 5:\n",
    "\t\thas_torch = True\n",
    "\t\tfor i in x:\n",
    "\t\t\tif len(i) == 3:\n",
    "\t\t\t\thas_torch = True\n",
    "\t\t\telse:\n",
    "\t\t\t\thas_torch = False\n",
    "\tif has_torch:\n",
    "\t\tprint('GOOD: PyTorch is working fine.')\n",
    "\telse:\n",
    "\t\tprint('BAD: PyTorch is NOT working.')\n",
    "\n",
    "\n",
    "\tprint(\"Checking user groups...\")\n",
    "\tuser = os.getlogin()\n",
    "\tgroups = [g.gr_name for g in grp.getgrall() if user in g.gr_mem]\n",
    "\tgid = pwd.getpwnam(user).pw_gid\n",
    "\tgroups.append(grp.getgrgid(gid).gr_name)\n",
    "\tif 'render' in groups and 'video' in groups:\n",
    "\t\tprint('GOOD: The user', user, 'is in RENDER and VIDEO groups.')\n",
    "\telse:\n",
    "\t\tprint('BAD: The user', user, 'is NOT in RENDER and VIDEO groups. This is necessary in order to PyTorch use HIP resources')\n",
    "\n",
    "\tif torch.cuda.is_available():\n",
    "\t\tprint(\"GOOD: PyTorch ROCM support found.\")\n",
    "        print(torch.cuda.is_available())\n",
    "\t\tt = torch.tensor([5, 5, 5], dtype=torch.int64, device='cuda:0')\n",
    "\t\tprint('Testing PyTorch ROCM support...')\n",
    "\t\tif str(t) == \"tensor([5, 5, 5], device='cuda:0')\":\n",
    "\t\t\tprint('Everything fine! You can run PyTorch code inside of: ')\n",
    "\t\t\tfor device in devices:\n",
    "\t\t\t\tprint('---> ', device)\n",
    "\telse:\n",
    "\t\tprint(\"BAD: PyTorch ROCM support NOT found.\")\n",
    "except:\n",
    "\tprint('Cannot find rocminfo command information. Unable to determine if AMDGPU drivers with ROCM support were installed.')"
   ]
  }
 ],
 "metadata": {
  "kernelspec": {
   "display_name": "Python 3 (ipykernel)",
   "language": "python",
   "name": "python3"
  },
  "language_info": {
   "codemirror_mode": {
    "name": "ipython",
    "version": 3
   },
   "file_extension": ".py",
   "mimetype": "text/x-python",
   "name": "python",
   "nbconvert_exporter": "python",
   "pygments_lexer": "ipython3",
   "version": "3.9.18"
  }
 },
 "nbformat": 4,
 "nbformat_minor": 5
}
